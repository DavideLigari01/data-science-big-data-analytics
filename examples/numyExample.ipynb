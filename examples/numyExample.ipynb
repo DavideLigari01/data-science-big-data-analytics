{
 "cells": [
  {
   "attachments": {},
   "cell_type": "markdown",
   "metadata": {},
   "source": [
    "## **Numpy** examples on array\n",
    "Firstly, we import the ***numpy*** library.  \n",
    "Then we set the seed of the random number generator to zero in order  \n",
    "to keep the random number sequence consistent every time the program is executed.  \n",
    "We create an array ***a*** of 300 random integers between 0 and 200 (inclusive).  \n",
    "We also create a new index array consisting of integers from 0 to 299  \n",
    "with a step of 3 using ***arange()*** function.  \n",
    "Finally, we print every third element from ***a*** using the index array.  "
   ]
  },
  {
   "cell_type": "code",
   "execution_count": 15,
   "metadata": {},
   "outputs": [
    {
     "name": "stdout",
     "output_type": "stream",
     "text": [
      "[172 192 103  36  88 193 174 165  72 115]\n",
      "[ 36  72  88 103 115 165 172 174 192 193]\n"
     ]
    }
   ],
   "source": [
    "# Importing numpy library and renaming it to 'np'\n",
    "import numpy as np\n",
    "\n",
    "# We are setting the seed of the random number generator to 0.\n",
    "# This will make sure that the sequence of random numbers generated\n",
    "# will be the same every time we run our program.\n",
    "np.random.seed(0)\n",
    "\n",
    "# Creating an array of 300 random integers between 0 and 200, inclusive.\n",
    "a = np.random.randint(200, size=30)\n",
    "\n",
    "# Creating a new array of integers from 0 to 299 with a step of 3.\n",
    "# This array will be used to select every third element from the 'a' array.\n",
    "index = np.arange(0, 30, 3)\n",
    "\n",
    "# Printing every third element from the 'a' array using the 'index' array.\n",
    "sorted_a=a[index].copy()\n",
    "print(a[index])\n",
    "sorted_a.sort()\n",
    "print(sorted_a)"
   ]
  },
  {
   "cell_type": "code",
   "execution_count": null,
   "metadata": {},
   "outputs": [],
   "source": []
  }
 ],
 "metadata": {
  "kernelspec": {
   "display_name": "Python 3 (ipykernel)",
   "language": "python",
   "name": "python3"
  },
  "language_info": {
   "codemirror_mode": {
    "name": "ipython",
    "version": 3
   },
   "file_extension": ".py",
   "mimetype": "text/x-python",
   "name": "python",
   "nbconvert_exporter": "python",
   "pygments_lexer": "ipython3",
   "version": "3.10.6"
  }
 },
 "nbformat": 4,
 "nbformat_minor": 2
}
