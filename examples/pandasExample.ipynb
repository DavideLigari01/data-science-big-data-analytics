{
 "cells": [
  {
   "attachments": {},
   "cell_type": "markdown",
   "metadata": {},
   "source": [
    "## **Pandas** exercises\n"
   ]
  },
  {
   "cell_type": "code",
   "execution_count": null,
   "metadata": {},
   "outputs": [],
   "source": []
  },
  {
   "cell_type": "code",
   "execution_count": 2,
   "metadata": {},
   "outputs": [
    {
     "data": {
      "text/plain": [
       "'1.5.3'"
      ]
     },
     "execution_count": 2,
     "metadata": {},
     "output_type": "execute_result"
    }
   ],
   "source": [
    "import pandas as pd\n",
    "pd.__version__\n"
   ]
  },
  {
   "cell_type": "code",
   "execution_count": 3,
   "metadata": {},
   "outputs": [
    {
     "data": {
      "text/plain": [
       "a    1\n",
       "b    2\n",
       "c    3\n",
       "d    4\n",
       "e    5\n",
       "dtype: int64"
      ]
     },
     "execution_count": 3,
     "metadata": {},
     "output_type": "execute_result"
    }
   ],
   "source": [
    "s = pd.Series(data=[1, 2, 3, 4, 5], index=['a', 'b', 'c', 'd', 'e'])\n",
    "s\n"
   ]
  },
  {
   "cell_type": "code",
   "execution_count": 4,
   "metadata": {},
   "outputs": [
    {
     "data": {
      "text/plain": [
       "keya    1\n",
       "keyb    2\n",
       "keyc    3\n",
       "dtype: int64"
      ]
     },
     "execution_count": 4,
     "metadata": {},
     "output_type": "execute_result"
    }
   ],
   "source": [
    "dict_ex = {'keya': 1, 'keyb': 2, 'keyc': 3}\n",
    "new_s = pd.Series(dict_ex)\n",
    "new_s\n"
   ]
  },
  {
   "cell_type": "code",
   "execution_count": 5,
   "metadata": {},
   "outputs": [
    {
     "data": {
      "text/plain": [
       "keya    1\n",
       "keyc    3\n",
       "Name: Dict, dtype: int64"
      ]
     },
     "execution_count": 5,
     "metadata": {},
     "output_type": "execute_result"
    }
   ],
   "source": [
    "dict_example = {'keya': 11, 'keyb': 22, 'keyc': 33}\n",
    "dict_example = pd.Series(dict_example)\n",
    "df = pd.DataFrame({'Dict': dict_ex, 'Dict1': dict_example})\n",
    "tmp_df = df[df['Dict'] != 2]\n",
    "tmp_df['Dict']\n"
   ]
  },
  {
   "cell_type": "code",
   "execution_count": 9,
   "metadata": {},
   "outputs": [
    {
     "name": "stdout",
     "output_type": "stream",
     "text": [
      "          col1      col2      col3      col4\n",
      "row1  0.774929  0.827830  0.350218  0.909797\n",
      "row2  0.644526  0.680665  0.099631  0.819890\n",
      "\n",
      "          col1      col2      col3      col4\n",
      "row1  0.774929  0.827830  0.350218  0.909797\n",
      "row2  0.644526  0.680665  0.099631  0.819890\n",
      "\n",
      "          col1      col2      col3      col4\n",
      "row1  0.774929  0.827830  0.350218  0.909797\n",
      "row2  0.644526  0.680665  0.099631  0.819890\n"
     ]
    }
   ],
   "source": [
    "import numpy as np\n",
    "df = pd.DataFrame(np.random.rand(4, 4), columns=['col1', 'col2', 'col3', 'col4'],\n",
    "                  index=['row1', 'row2', 'row3', 'row4'])\n",
    "df.col1.iloc[[3, 2]] = None\n",
    "df = df.dropna()\n",
    "print(df)\n",
    "print()\n",
    "print(df.iloc[0:2])\n",
    "print(\"\")\n",
    "print(df.loc[['row1', 'row2']])\n"
   ]
  },
  {
   "cell_type": "code",
   "execution_count": null,
   "metadata": {},
   "outputs": [],
   "source": []
  }
 ],
 "metadata": {
  "kernelspec": {
   "display_name": "Python 3",
   "language": "python",
   "name": "python3"
  },
  "language_info": {
   "codemirror_mode": {
    "name": "ipython",
    "version": 3
   },
   "file_extension": ".py",
   "mimetype": "text/x-python",
   "name": "python",
   "nbconvert_exporter": "python",
   "pygments_lexer": "ipython3",
   "version": "3.10.6"
  },
  "orig_nbformat": 4
 },
 "nbformat": 4,
 "nbformat_minor": 2
}
