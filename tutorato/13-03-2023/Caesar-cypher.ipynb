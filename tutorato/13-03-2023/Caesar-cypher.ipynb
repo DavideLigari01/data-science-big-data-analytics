{
 "cells": [
  {
   "cell_type": "code",
   "execution_count": 1,
   "metadata": {},
   "outputs": [
    {
     "name": "stdout",
     "output_type": "stream",
     "text": [
      "plain text : Gallia\n",
      "encrypted :  Jdoold\n",
      "decrypted :  Gallia\n",
      "decrypted with encrypt:  Gallia\n"
     ]
    }
   ],
   "source": [
    "# This function takes a string input and a numeric key value and returns the encrypted version\n",
    "# of the input string using the Caesar cipher encryption algorithm with the given key.\n",
    "def encrypt_decrypt(input_str: str, key: int):\n",
    "    output = ''\n",
    "    for c in input_str:\n",
    "        if c.isalpha():  # Check if the character is a letter\n",
    "            if c.islower():  # Check if the letter is lowercase\n",
    "                # Shift the letter by the key value\n",
    "                output += chr((ord(c) - ord('a') + key) % 26 + ord('a'))\n",
    "            else:\n",
    "                # Shift the letter by the key value\n",
    "                output += chr((ord(c) - ord('A') + key) % 26 + ord('A'))\n",
    "        else:\n",
    "            output += c  # Non-letter characters are added to the output string without being shifted\n",
    "    return output\n",
    "\n",
    "#  This function takes a string input and a numeric key value and returns the decrypted version\n",
    "#  of the input string that was previously encrypted with the Caesar cipher algorithm and the given key.\n",
    "# UNNECESSARY!!!!!!!!!!!!!!!!!!!!!!!!\n",
    "\n",
    "def decrypt(input_str: str, key: int):\n",
    "    output = ''\n",
    "    for c in input_str:\n",
    "        if c.isalpha():  # Check if the character is a letter\n",
    "            if c.islower():  # Check if the letter is lowercase\n",
    "                # Shift the letter by the negative key value\n",
    "                output += chr((ord(c) - ord('a') - key) % 26 + ord('a'))\n",
    "            else:\n",
    "                # Shift the letter by the negative key value\n",
    "                output += chr((ord(c) - ord('A') - key) % 26 + ord('A'))\n",
    "        else:\n",
    "            output += c  # Non-letter characters are added to the output string without being shifted\n",
    "    return output\n",
    "\n",
    "\n",
    "plain_text = \"Gallia\"  # Set the plaintext to be encrypted\n",
    "print('plain text :', plain_text)\n",
    "# Encrypt the plaintext with a key of 3\n",
    "encrypted = encrypt_decrypt(plain_text, 3)\n",
    "print('encrypted : ', encrypted)  # Print the resulting ciphertext\n",
    "# Decrypt the ciphertext with the same key and print the resulting plaintext\n",
    "print('decrypted : ', decrypt(encrypted, 3))\n",
    "print('decrypted with encrypt: ', encrypt_decrypt(encrypted, -3))\n"
   ]
  },
  {
   "cell_type": "code",
   "execution_count": 2,
   "metadata": {},
   "outputs": [
    {
     "name": "stdout",
     "output_type": "stream",
     "text": [
      "correct key :  14\n",
      "decrypted text :  the main lesson of thirty-five years of ai research is that the hard problems are easy and the easy problems are hard. the mental abilities of a four-year-old that we take for granted – recognizing a face, lifting a pencil, walking across a room, answering a question – in fact solve some of the hardest engineering problems ever conceived... as the new generation of intelligent devices appears, it will be the stock analysts and petrochemical engineers and parole board members who are in danger of being replaced by machines. the gardeners, receptionists, and cooks are secure in their jobs for decades to come.\n",
      "\n",
      "correct key :  23\n",
      "decrypted text :  if youth, throughout all history, had had a champion to stand up for it; to show a doubting world that a child can think; and, possibly, do it practically; you wouldn’t constantly run across folks today who claim that “a child don’t know anything.” a child’s brain starts functioning at birth; and has, amongst its many infant convolutions, thousands of dormant atoms, into which god has put a mystic possibility for noticing an adult’s act, and figuring out its purport.\n",
      "\n"
     ]
    }
   ],
   "source": [
    "# Brute force attack\n",
    "def brute_force(text):\n",
    "    dictionary = []  # create empty list for holding words from dictionary file\n",
    "    with open('dictionary.txt')as dictionary_file:  # open dictionary.txt file in read mode \n",
    "        for line in dictionary_file:  #iterate through each line of dictionary file \n",
    "            dictionary.append(line.rstrip())\t #removing newline and appending words to our list of words\n",
    "    tot = [] # create an empty list for storing hit rates by each key tested\n",
    "    textSize = len(text) \n",
    "    for key in range(26): # iterate through each of the 26 possible shifts\n",
    "        count = 0  \n",
    "        tmp_text = encrypt_decrypt(text, -key)  # shift the input text in reverse (use decrypt function) for each possible shift value\n",
    "        words = tmp_text.split()  # Break lines into a list of words.\n",
    "        for word in words:    \n",
    "            if word in dictionary:   # if a word exists in the dictionary add to count\n",
    "                count += 1\t\t\n",
    "        tot.append(count) # add current hit rate to our list of totals for all keys tested\n",
    "    return tot.index(max(tot))  # Return the index of the max hit-rate value in list of counts.\n",
    "\n",
    "texts=[] # create empty list to hold multiple ciphertexts\n",
    "with open('ciphertexts.txt') as chipertext: #open ciphertexts.txt file in read mode\n",
    "    for line in chipertext: # iterate through each line of ciphertexts file\n",
    "        if len(line.rstrip())!=0:  # check if line has characters or is blank line\n",
    "            texts.append(line)  # assuming it is a valid cipher text append it to our list of cipher text snippets\n",
    "           \n",
    "for text in texts:   # loop through all ciphers snippets found\n",
    "    correct_key=brute_force(text) # call the brute_force method on each cipher text snippet and save the key required to decrypt it    \n",
    "    print(\"correct key : \", correct_key) # Print which key can be use to decrypt the cipher text\n",
    "    print('decrypted text : ', encrypt_decrypt(text, -correct_key)) # Print the decrypted original text using the key and decrypt function\n"
   ]
  },
  {
   "attachments": {},
   "cell_type": "markdown",
   "metadata": {},
   "source": [
    "calculate the frequencies of all letters and plot the graph using matplotlib\n"
   ]
  },
  {
   "cell_type": "markdown",
   "metadata": {},
   "source": []
  }
 ],
 "metadata": {
  "kernelspec": {
   "display_name": "Python 3",
   "language": "python",
   "name": "python3"
  },
  "language_info": {
   "codemirror_mode": {
    "name": "ipython",
    "version": 3
   },
   "file_extension": ".py",
   "mimetype": "text/x-python",
   "name": "python",
   "nbconvert_exporter": "python",
   "pygments_lexer": "ipython3",
   "version": "3.10.6"
  },
  "orig_nbformat": 4
 },
 "nbformat": 4,
 "nbformat_minor": 2
}
