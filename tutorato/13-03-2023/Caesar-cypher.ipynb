{
 "cells": [
  {
   "cell_type": "code",
   "execution_count": 3,
   "metadata": {},
   "outputs": [
    {
     "name": "stdout",
     "output_type": "stream",
     "text": [
      "plain text : Gallia\n",
      "encrypted :  Jdoold\n",
      "decrypted :  Gallia\n",
      "decrypted with encrypt:  Gallia\n"
     ]
    }
   ],
   "source": [
    "# This function takes a string input and a numeric key value and returns the encrypted version\n",
    "# of the input string using the Caesar cipher encryption algorithm with the given key.\n",
    "def encrypt_decrypt(input_str: str, key: int):\n",
    "    output = ''\n",
    "    for c in input_str:\n",
    "        if c.isalpha():  # Check if the character is a letter\n",
    "            if c.islower():  # Check if the letter is lowercase\n",
    "                # Shift the letter by the key value\n",
    "                output += chr((ord(c) - ord('a') + key) % 26 + ord('a'))\n",
    "            else:\n",
    "                # Shift the letter by the key value\n",
    "                output += chr((ord(c) - ord('A') + key) % 26 + ord('A'))\n",
    "        else:\n",
    "            output += c  # Non-letter characters are added to the output string without being shifted\n",
    "    return output\n",
    "\n",
    "#  This function takes a string input and a numeric key value and returns the decrypted version\n",
    "#  of the input string that was previously encrypted with the Caesar cipher algorithm and the given key.\n",
    "# UNNECESSARY!!!!!!!!!!!!!!!!!!!!!!!!\n",
    "\n",
    "def decrypt(input_str: str, key: int):\n",
    "    output = ''\n",
    "    for c in input_str:\n",
    "        if c.isalpha():  # Check if the character is a letter\n",
    "            if c.islower():  # Check if the letter is lowercase\n",
    "                # Shift the letter by the negative key value\n",
    "                output += chr((ord(c) - ord('a') - key) % 26 + ord('a'))\n",
    "            else:\n",
    "                # Shift the letter by the negative key value\n",
    "                output += chr((ord(c) - ord('A') - key) % 26 + ord('A'))\n",
    "        else:\n",
    "            output += c  # Non-letter characters are added to the output string without being shifted\n",
    "    return output\n",
    "\n",
    "\n",
    "plain_text = \"Gallia\"  # Set the plaintext to be encrypted\n",
    "print('plain text :', plain_text)\n",
    "# Encrypt the plaintext with a key of 3\n",
    "encrypted = encrypt_decrypt(plain_text, 3)\n",
    "print('encrypted : ', encrypted)  # Print the resulting ciphertext\n",
    "# Decrypt the ciphertext with the same key and print the resulting plaintext\n",
    "print('decrypted : ', decrypt(encrypted, 3))\n",
    "print('decrypted with encrypt: ', encrypt_decrypt(encrypted, -3))\n"
   ]
  },
  {
   "cell_type": "code",
   "execution_count": 4,
   "metadata": {},
   "outputs": [
    {
     "name": "stdout",
     "output_type": "stream",
     "text": [
      "correct key :  14\n",
      "decrypted text :  the main lesson of thirty-five years of ai research is that the hard problems are easy and the easy problems are hard. the mental abilities of a four-year-old that we take for granted – recognizing a face, lifting a pencil, walking across a room, answering a question – in fact solve some of the hardest engineering problems ever conceived... as the new generation of intelligent devices appears, it will be the stock analysts and petrochemical engineers and parole board members who are in danger of being replaced by machines. the gardeners, receptionists, and cooks are secure in their jobs for decades to come.\n",
      "\n",
      "correct key :  23\n",
      "decrypted text :  if youth, throughout all history, had had a champion to stand up for it; to show a doubting world that a child can think; and, possibly, do it practically; you wouldn’t constantly run across folks today who claim that “a child don’t know anything.” a child’s brain starts functioning at birth; and has, amongst its many infant convolutions, thousands of dormant atoms, into which god has put a mystic possibility for noticing an adult’s act, and figuring out its purport.\n",
      "\n"
     ]
    }
   ],
   "source": [
    "# Brute force attack\n",
    "def brute_force(text):\n",
    "    dictionary = []\n",
    "    with open('dictionary.txt')as dictionary_file:\n",
    "        for line in dictionary_file:\n",
    "            dictionary.append(line.rstrip())    \n",
    "    tot = []\n",
    "    textSize = len(text) \n",
    "    for key in range(26):\n",
    "        count = 0\n",
    "        tmp_text = encrypt_decrypt(text, -key)\n",
    "        words = tmp_text.split()\n",
    "        for word in words:\n",
    "            if word in dictionary:\n",
    "                count += 1\n",
    "        tot.append(count)\n",
    "    return tot.index(max(tot))\n",
    "\n",
    "texts=[]\n",
    "with open('ciphertexts.txt') as chipertext:\n",
    "    for line in chipertext:\n",
    "        if len(line.rstrip())!=0:\n",
    "            texts.append(line)\n",
    "\n",
    "for text in texts:\n",
    "    correct_key=brute_force(text)\n",
    "    print(\"correct key : \", correct_key)\n",
    "    print('decrypted text : ', encrypt_decrypt(text, -correct_key))\n"
   ]
  },
  {
   "attachments": {},
   "cell_type": "markdown",
   "metadata": {},
   "source": [
    "calculate the frequencies of all letters and plot the graph using matplotlib\n"
   ]
  },
  {
   "cell_type": "markdown",
   "metadata": {},
   "source": []
  }
 ],
 "metadata": {
  "kernelspec": {
   "display_name": "Python 3",
   "language": "python",
   "name": "python3"
  },
  "language_info": {
   "codemirror_mode": {
    "name": "ipython",
    "version": 3
   },
   "file_extension": ".py",
   "mimetype": "text/x-python",
   "name": "python",
   "nbconvert_exporter": "python",
   "pygments_lexer": "ipython3",
   "version": "3.10.6"
  },
  "orig_nbformat": 4
 },
 "nbformat": 4,
 "nbformat_minor": 2
}
